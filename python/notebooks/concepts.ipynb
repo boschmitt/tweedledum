{
 "cells": [
  {
   "cell_type": "markdown",
   "id": "skilled-proposition",
   "metadata": {},
   "source": [
    "# Conceptual overview\n",
    "\n",
    "In this tutorial we will go from knowing nothing about `tweedledum` to understanding its underlying conpcepts. Note that this is not a quantum computing 101 tutorial, I assume familiarity of quantum computing.\n",
    "\n",
    "As you know, the most commonly used notation for representing quantum algorithms is the quantum circuit model introduced by Deutsch. The model describes the computation as a sequence of elementary quantum gates acting on a collection of qubits.  In tweedledum, the representation of quantum programs is a __quantum circuit__, hereinafter called __circuit__. \n",
    "\n",
    "Let's look at the following circuit diagram to understand the concepts used in tweedledum.\n",
    "\n",
    "\n",
    "<img src=\"images/concept-circuit.png\" alt=\"Quantum teleportation\" style=\"width: 400px;\"/>"
   ]
  },
  {
   "cell_type": "markdown",
   "id": "theoretical-groove",
   "metadata": {},
   "source": [
    "## Qubits and Cbits\n",
    "\n",
    "At the very bottom of the layers of abstraction rest concepts of quantum bit, __qubit__, and classical bit, __cbit__ (or just bit). I expect the reader to be familiar with those. So I will start describing the wires.\n",
    "\n",
    "<img src=\"images/concept-wires.png\" alt=\"Wires\" style=\"width: 400px;\"/>\n",
    "\n",
    "These lines in the diagrams are called wires.\n",
    "\n",
    "A wire can be either a quantum or classical. A quantum wire holds the state of a qubit, and it is represented by a line in quantum circuit diagrams. In tweedledum, a quantum wire is equivalent to a qubit. Similarly, a classical wire holds the state of a cbit, and it is represented by a double line in quantum circuit diagrams."
   ]
  },
  {
   "cell_type": "markdown",
   "id": "different-interface",
   "metadata": {},
   "source": [
    "## Operators\n",
    "\n",
    "A operator is an effect that can be applied to a subset of wires.  Most often this effect is an unitary evolution.\n",
    "In our small example, we have a few operators.\n",
    "\n",
    "<img src=\"images/concept-operators.png\" alt=\"Operators\" style=\"width: 400px;\"/>\n",
    "\n",
    "- The Hadamard operator.\n",
    "- The Pauli-X and Pauli-Z operators.\n",
    "- The Controlled Pauli-X operator. (Also known as CNOT or CX)\n",
    "- The Measurement operator\n",
    "\n",
    "(Note that the execution of the operators X and Z depend on the state of classical bits---This is not fully supported yet)"
   ]
  },
  {
   "cell_type": "markdown",
   "id": "spoken-former",
   "metadata": {},
   "source": [
    "## Instructions\n",
    "\n",
    "An instruction is a operator applied to a specific subset wires.\n",
    "\n",
    "<img src=\"images/concept-instructions.png\" alt=\"Operators\" style=\"width: 400px;\"/>"
   ]
  },
  {
   "cell_type": "markdown",
   "id": "minute-airfare",
   "metadata": {},
   "source": [
    "## Circuits\n",
    "\n",
    "Putting it all together and we have a circuit. \n",
    "\n",
    "In tweedledum, a circuit is, basically, a set of wires and a sequence of instructions."
   ]
  },
  {
   "cell_type": "code",
   "execution_count": null,
   "id": "intellectual-november",
   "metadata": {},
   "outputs": [],
   "source": []
  }
 ],
 "metadata": {
  "kernelspec": {
   "display_name": "Python 3",
   "language": "python",
   "name": "python3"
  },
  "language_info": {
   "codemirror_mode": {
    "name": "ipython",
    "version": 3
   },
   "file_extension": ".py",
   "mimetype": "text/x-python",
   "name": "python",
   "nbconvert_exporter": "python",
   "pygments_lexer": "ipython3",
   "version": "3.9.2"
  }
 },
 "nbformat": 4,
 "nbformat_minor": 5
}
