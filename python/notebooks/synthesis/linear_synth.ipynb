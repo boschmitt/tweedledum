{
 "cells": [
  {
   "cell_type": "code",
   "execution_count": 4,
   "id": "above-blackberry",
   "metadata": {
    "slideshow": {
     "slide_type": "-"
    }
   },
   "outputs": [
    {
     "name": "stdout",
     "output_type": "stream",
     "text": [
      "                 \n",
      "__q2 : ──●───────\n",
      "       ╭─┴─╮     \n",
      "__q1 : ┤ x ├──●──\n",
      "       ╰───╯╭─┴─╮\n",
      "__q0 : ─────┤ x ├\n",
      "            ╰───╯\n",
      "\n"
     ]
    }
   ],
   "source": [
    "from tweedledum.synthesis import linear_synth\n",
    "\n",
    "linear_trans = [[1,1,1], \n",
    "                [0,1,1], \n",
    "                [0,0,1]]\n",
    "circuit = linear_synth(linear_trans)\n",
    "print(circuit)"
   ]
  },
  {
   "cell_type": "code",
   "execution_count": 5,
   "id": "animated-termination",
   "metadata": {},
   "outputs": [
    {
     "name": "stdout",
     "output_type": "stream",
     "text": [
      "            ╭───╮     \n",
      "__q2 : ──●──┤ x ├──●──\n",
      "       ╭─┴─╮╰─┬─╯╭─┴─╮\n",
      "__q1 : ┤ x ├──●──┤ x ├\n",
      "       ╰───╯     ╰───╯\n",
      "__q0 : ───────────────\n",
      "                      \n",
      "\n"
     ]
    }
   ],
   "source": [
    "linear_trans = [[1,0,0], \n",
    "                [0,0,1], \n",
    "                [0,1,0]]\n",
    "circuit = linear_synth(linear_trans)\n",
    "print(circuit)"
   ]
  },
  {
   "cell_type": "code",
   "execution_count": 6,
   "id": "pursuant-failing",
   "metadata": {},
   "outputs": [
    {
     "name": "stdout",
     "output_type": "stream",
     "text": [
      "            ╭───╮     \n",
      "__q2 : ──●──┤ x ├──●──\n",
      "         │  ╰─┬─╯  │  \n",
      "__q1 : ──┼────┼────┼──\n",
      "       ╭─┴─╮  │  ╭─┴─╮\n",
      "__q0 : ┤ x ├──●──┤ x ├\n",
      "       ╰───╯     ╰───╯\n",
      "\n"
     ]
    }
   ],
   "source": [
    "linear_trans = [[0,0,1], \n",
    "                [0,1,0], \n",
    "                [1,0,0]]\n",
    "circuit = linear_synth(linear_trans)\n",
    "print(circuit)"
   ]
  },
  {
   "cell_type": "code",
   "execution_count": null,
   "id": "overhead-tiffany",
   "metadata": {},
   "outputs": [],
   "source": []
  }
 ],
 "metadata": {
  "kernelspec": {
   "display_name": "Python 3",
   "language": "python",
   "name": "python3"
  },
  "language_info": {
   "codemirror_mode": {
    "name": "ipython",
    "version": 3
   },
   "file_extension": ".py",
   "mimetype": "text/x-python",
   "name": "python",
   "nbconvert_exporter": "python",
   "pygments_lexer": "ipython3",
   "version": "3.9.2"
  }
 },
 "nbformat": 4,
 "nbformat_minor": 5
}
