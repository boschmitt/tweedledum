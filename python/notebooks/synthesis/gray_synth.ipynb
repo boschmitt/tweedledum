{
 "cells": [
  {
   "cell_type": "code",
   "execution_count": 2,
   "id": "above-blackberry",
   "metadata": {
    "slideshow": {
     "slide_type": "-"
    }
   },
   "outputs": [],
   "source": [
    "from tweedledum.utils import LinPhasePoly\n",
    "\n",
    "phase_parities = LinPhasePoly()\n",
    "phase_parities.add_term(0b0110, 3.14)\n",
    "phase_parities.add_term(0b0001, 3.14)\n",
    "phase_parities.add_term(0b1001, 3.14)\n",
    "phase_parities.add_term(0b0111, 3.14)\n",
    "phase_parities.add_term(0b1011, 3.14)\n",
    "phase_parities.add_term(0b0011, 3.14)\n",
    "\n",
    "# TODO: Vector API!\n",
    "# phase_parities.add_term([2], 3.14)\n",
    "# phase_parities.add_term([2, 8], 3.14)\n",
    "# phase_parities.add_term([2, 8, 4], 3.14)\n",
    "# phase_parities.add_term([2, 4, 8], 3.14)\n",
    "# phase_parities.add_term([2, 4], 3.14)"
   ]
  },
  {
   "cell_type": "code",
   "execution_count": 3,
   "id": "ideal-ribbon",
   "metadata": {},
   "outputs": [
    {
     "name": "stdout",
     "output_type": "stream",
     "text": [
      "                                                                        \n",
      "__q3 : ────────────●──────────────●───────────────────●──────────────●──\n",
      "                   │              │                   │              │  \n",
      "__q2 : ──●─────────┼──────────────┼─────────●─────────┼────●─────────┼──\n",
      "       ╭─┴─╮╭───╮  │              │         │         │  ╭─┴─╮       │  \n",
      "__q1 : ┤ x ├┤ p ├──┼─────────●────┼─────────┼─────────┼──┤ x ├──●────┼──\n",
      "       ├───┤╰───╯╭─┴─╮╭───╮╭─┴─╮╭─┴─╮╭───╮╭─┴─╮╭───╮╭─┴─╮├───┤╭─┴─╮╭─┴─╮\n",
      "__q0 : ┤ p ├─────┤ x ├┤ p ├┤ x ├┤ x ├┤ p ├┤ x ├┤ p ├┤ x ├┤ p ├┤ x ├┤ x ├\n",
      "       ╰───╯     ╰───╯╰───╯╰───╯╰───╯╰───╯╰───╯╰───╯╰───╯╰───╯╰───╯╰───╯\n",
      "\n"
     ]
    }
   ],
   "source": [
    "from tweedledum.synthesis import gray_synth\n",
    "\n",
    "circuit = gray_synth(4, phase_parities)\n",
    "print(circuit)"
   ]
  },
  {
   "cell_type": "code",
   "execution_count": null,
   "id": "balanced-puppy",
   "metadata": {},
   "outputs": [],
   "source": [
    "\n"
   ]
  }
 ],
 "metadata": {
  "kernelspec": {
   "display_name": "Python 3",
   "language": "python",
   "name": "python3"
  },
  "language_info": {
   "codemirror_mode": {
    "name": "ipython",
    "version": 3
   },
   "file_extension": ".py",
   "mimetype": "text/x-python",
   "name": "python",
   "nbconvert_exporter": "python",
   "pygments_lexer": "ipython3",
   "version": "3.9.2"
  }
 },
 "nbformat": 4,
 "nbformat_minor": 5
}
