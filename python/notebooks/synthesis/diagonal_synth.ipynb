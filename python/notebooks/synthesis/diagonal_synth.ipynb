{
 "cells": [
  {
   "cell_type": "code",
   "execution_count": 3,
   "id": "identical-bhutan",
   "metadata": {},
   "outputs": [
    {
     "name": "stdout",
     "output_type": "stream",
     "text": [
      "       ╭───╮╭───╮╭───╮╭───╮╭───╮╭───╮╭───╮╭───╮\n",
      "__q2 : ┤ p ├┤ x ├┤ p ├┤ x ├┤ p ├┤ x ├┤ p ├┤ x ├\n",
      "       ╰───╯╰─┬─╯╰───╯╰─┬─╯╰───╯╰─┬─╯╰───╯╰─┬─╯\n",
      "__q1 : ───────┼─────────●─────────┼─────────●──\n",
      "              │                   │            \n",
      "__q0 : ───────●───────────────────●────────────\n",
      "                                               \n",
      "\n"
     ]
    }
   ],
   "source": [
    "import math\n",
    "from tweedledum.synthesis import diagonal_synth\n",
    "\n",
    "angles = [0.0, 0.0, 0.0, 0.0, 0.0, 0.0, -math.pi, math.pi]\n",
    "circuit = diagonal_synth(angles)\n",
    "print(circuit)"
   ]
  },
  {
   "cell_type": "code",
   "execution_count": 4,
   "id": "weighted-fitting",
   "metadata": {},
   "outputs": [
    {
     "name": "stdout",
     "output_type": "stream",
     "text": [
      "       ╭───╮                                                  \n",
      "__q2 : ┤ p ├──●───────────────────●──────────────●─────────●──\n",
      "       ├───┤  │                   │            ╭─┴─╮╭───╮╭─┴─╮\n",
      "__q1 : ┤ p ├──┼─────────●─────────┼─────────●──┤ x ├┤ p ├┤ x ├\n",
      "       ├───┤╭─┴─╮╭───╮╭─┴─╮╭───╮╭─┴─╮╭───╮╭─┴─╮╰───╯╰───╯╰───╯\n",
      "__q0 : ┤ p ├┤ x ├┤ p ├┤ x ├┤ p ├┤ x ├┤ p ├┤ x ├───────────────\n",
      "       ╰───╯╰───╯╰───╯╰───╯╰───╯╰───╯╰───╯╰───╯               \n",
      "\n"
     ]
    }
   ],
   "source": [
    "angles = [0.0, 0.0, 0.0, 0.0, 0.0, 0.0, 0.0, math.pi]\n",
    "circuit = diagonal_synth(angles)\n",
    "print(circuit)"
   ]
  },
  {
   "cell_type": "code",
   "execution_count": null,
   "id": "native-correlation",
   "metadata": {},
   "outputs": [],
   "source": []
  }
 ],
 "metadata": {
  "kernelspec": {
   "display_name": "Python 3",
   "language": "python",
   "name": "python3"
  },
  "language_info": {
   "codemirror_mode": {
    "name": "ipython",
    "version": 3
   },
   "file_extension": ".py",
   "mimetype": "text/x-python",
   "name": "python",
   "nbconvert_exporter": "python",
   "pygments_lexer": "ipython3",
   "version": "3.9.2"
  }
 },
 "nbformat": 4,
 "nbformat_minor": 5
}
