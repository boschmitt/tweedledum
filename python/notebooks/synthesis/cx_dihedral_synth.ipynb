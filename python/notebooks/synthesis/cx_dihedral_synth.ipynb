{
 "cells": [
  {
   "cell_type": "code",
   "execution_count": 1,
   "id": "above-blackberry",
   "metadata": {
    "slideshow": {
     "slide_type": "-"
    }
   },
   "outputs": [],
   "source": [
    "from tweedledum.utils import LinPhasePoly\n",
    "\n",
    "phase_parities = LinPhasePoly()\n",
    "phase_parities.add_term(0b001, 0.785398163397448309616);\n",
    "phase_parities.add_term(0b010, 0.785398163397448309616);\n",
    "phase_parities.add_term(0b100, 0.785398163397448309616);\n",
    "phase_parities.add_term(0b011, -0.785398163397448309616);\n",
    "phase_parities.add_term(0b101, -0.785398163397448309616);\n",
    "phase_parities.add_term(0b110, -0.785398163397448309616);\n",
    "phase_parities.add_term(0b111, 0.785398163397448309616)"
   ]
  },
  {
   "cell_type": "code",
   "execution_count": 2,
   "id": "ideal-ribbon",
   "metadata": {},
   "outputs": [
    {
     "name": "stdout",
     "output_type": "stream",
     "text": [
      "       ╭───╮╭───╮╭───╮╭───╮╭───╮╭───╮╭───╮          ╭───╮\n",
      "__q2 : ┤ p ├┤ x ├┤ p ├┤ x ├┤ p ├┤ x ├┤ p ├──────────┤ x ├\n",
      "       ├───┤╰─┬─╯╰───╯╰─┬─╯╰───╯╰─┬─╯├───┤╭───╮╭───╮╰─┬─╯\n",
      "__q1 : ┤ p ├──●─────────┼─────────●──┤ x ├┤ p ├┤ x ├──┼──\n",
      "       ├───┤            │            ╰─┬─╯╰───╯╰─┬─╯  │  \n",
      "__q0 : ┤ p ├────────────●──────────────●─────────●────●──\n",
      "       ╰───╯                                             \n",
      "\n"
     ]
    }
   ],
   "source": [
    "import numpy as np\n",
    "from tweedledum.synthesis import cx_dihedral_synth\n",
    "\n",
    "transformation = np.identity(3)\n",
    "circuit = cx_dihedral_synth(transformation, phase_parities)\n",
    "print(circuit)"
   ]
  },
  {
   "cell_type": "code",
   "execution_count": null,
   "id": "balanced-puppy",
   "metadata": {},
   "outputs": [],
   "source": [
    "\n"
   ]
  }
 ],
 "metadata": {
  "kernelspec": {
   "display_name": "Python 3",
   "language": "python",
   "name": "python3"
  },
  "language_info": {
   "codemirror_mode": {
    "name": "ipython",
    "version": 3
   },
   "file_extension": ".py",
   "mimetype": "text/x-python",
   "name": "python",
   "nbconvert_exporter": "python",
   "pygments_lexer": "ipython3",
   "version": "3.9.2"
  }
 },
 "nbformat": 4,
 "nbformat_minor": 5
}
