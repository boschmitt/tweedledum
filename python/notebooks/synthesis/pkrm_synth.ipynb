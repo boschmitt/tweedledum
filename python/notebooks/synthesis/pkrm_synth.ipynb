{
 "cells": [
  {
   "cell_type": "code",
   "execution_count": 1,
   "id": "expanded-texas",
   "metadata": {},
   "outputs": [
    {
     "name": "stdout",
     "output_type": "stream",
     "text": [
      "11001110\n"
     ]
    }
   ],
   "source": [
    "from tweedledum.classical import create_from_binary_string, TruthTable\n",
    "\n",
    "tt = TruthTable(3)\n",
    "create_from_binary_string(tt, \"11001110\")\n",
    "print(tt)"
   ]
  },
  {
   "cell_type": "code",
   "execution_count": 2,
   "id": "ranging-rally",
   "metadata": {},
   "outputs": [
    {
     "name": "stdout",
     "output_type": "stream",
     "text": [
      "       ╭───╮╭───╮╭───╮\n",
      "__q3 : ┤ x ├┤ x ├┤ x ├\n",
      "       ╰─┬─╯╰─┬─╯╰─┬─╯\n",
      "__q2 : ──◯────◯────●──\n",
      "         │    │    │  \n",
      "__q1 : ──●────┼────●──\n",
      "         │    │       \n",
      "__q0 : ──◯────●───────\n",
      "                      \n",
      "\n"
     ]
    }
   ],
   "source": [
    "from tweedledum.synthesis import pkrm_synth\n",
    "\n",
    "circuit = pkrm_synth(tt)\n",
    "print(circuit)"
   ]
  },
  {
   "cell_type": "code",
   "execution_count": null,
   "id": "resistant-excitement",
   "metadata": {},
   "outputs": [],
   "source": []
  }
 ],
 "metadata": {
  "kernelspec": {
   "display_name": "Python 3",
   "language": "python",
   "name": "python3"
  },
  "language_info": {
   "codemirror_mode": {
    "name": "ipython",
    "version": 3
   },
   "file_extension": ".py",
   "mimetype": "text/x-python",
   "name": "python",
   "nbconvert_exporter": "python",
   "pygments_lexer": "ipython3",
   "version": "3.9.2"
  }
 },
 "nbformat": 4,
 "nbformat_minor": 5
}
