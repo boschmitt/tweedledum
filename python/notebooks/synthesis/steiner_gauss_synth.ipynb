{
 "cells": [
  {
   "cell_type": "code",
   "execution_count": 1,
   "id": "above-blackberry",
   "metadata": {
    "slideshow": {
     "slide_type": "-"
    }
   },
   "outputs": [
    {
     "name": "stdout",
     "output_type": "stream",
     "text": [
      "                                \n",
      "__q2 : ───────●─────────●───────\n",
      "            ╭─┴─╮     ╭─┴─╮     \n",
      "__q1 : ──●──┤ x ├──●──┤ x ├──●──\n",
      "       ╭─┴─╮╰───╯╭─┴─╮╰───╯╭─┴─╮\n",
      "__q0 : ┤ x ├─────┤ x ├─────┤ x ├\n",
      "       ╰───╯     ╰───╯     ╰───╯\n",
      "\n"
     ]
    }
   ],
   "source": [
    "from tweedledum.target import Device\n",
    "from tweedledum.synthesis import steiner_gauss_synth\n",
    "\n",
    "path3 = Device.path(3)\n",
    "linear_trans = [[1,1,1], \n",
    "                [0,1,0], \n",
    "                [0,0,1]]\n",
    "circuit = steiner_gauss_synth(path3, linear_trans)\n",
    "print(circuit)"
   ]
  },
  {
   "cell_type": "code",
   "execution_count": 2,
   "id": "systematic-hotel",
   "metadata": {},
   "outputs": [
    {
     "name": "stdout",
     "output_type": "stream",
     "text": [
      "                 \n",
      "__q2 : ──●───────\n",
      "       ╭─┴─╮╭───╮\n",
      "__q1 : ┤ x ├┤ x ├\n",
      "       ╰───╯╰─┬─╯\n",
      "__q0 : ───────●──\n",
      "                 \n",
      "\n"
     ]
    }
   ],
   "source": [
    "linear_trans = [[1,0,0], \n",
    "                [1,1,1], \n",
    "                [0,0,1]]\n",
    "circuit = steiner_gauss_synth(path3, linear_trans)\n",
    "print(circuit)"
   ]
  },
  {
   "cell_type": "code",
   "execution_count": 3,
   "id": "second-fossil",
   "metadata": {},
   "outputs": [
    {
     "name": "stdout",
     "output_type": "stream",
     "text": [
      "            ╭───╮     \n",
      "__q2 : ─────┤ x ├─────\n",
      "       ╭───╮╰─┬─╯╭───╮\n",
      "__q1 : ┤ x ├──●──┤ x ├\n",
      "       ╰─┬─╯     ╰─┬─╯\n",
      "__q0 : ──●─────────●──\n",
      "                      \n",
      "\n"
     ]
    }
   ],
   "source": [
    "linear_trans = [[1,0,0], \n",
    "                [0,1,0], \n",
    "                [1,1,1]]\n",
    "circuit = steiner_gauss_synth(path3, linear_trans)\n",
    "print(circuit)"
   ]
  },
  {
   "cell_type": "code",
   "execution_count": 4,
   "id": "animated-termination",
   "metadata": {},
   "outputs": [
    {
     "name": "stdout",
     "output_type": "stream",
     "text": [
      "                 \n",
      "__q2 : ──●───────\n",
      "       ╭─┴─╮     \n",
      "__q1 : ┤ x ├──●──\n",
      "       ╰───╯╭─┴─╮\n",
      "__q0 : ─────┤ x ├\n",
      "            ╰───╯\n",
      "\n"
     ]
    }
   ],
   "source": [
    "linear_trans = [[1,1,1], \n",
    "                [0,1,1], \n",
    "                [0,0,1]]\n",
    "circuit = steiner_gauss_synth(path3, linear_trans)\n",
    "print(circuit)"
   ]
  },
  {
   "cell_type": "code",
   "execution_count": 5,
   "id": "improving-color",
   "metadata": {},
   "outputs": [
    {
     "name": "stdout",
     "output_type": "stream",
     "text": [
      "                 ╭───╮          ╭───╮          \n",
      "__q2 : ──●───────┤ x ├──●───────┤ x ├───────●──\n",
      "       ╭─┴─╮     ╰─┬─╯╭─┴─╮╭───╮╰─┬─╯     ╭─┴─╮\n",
      "__q1 : ┤ x ├──●────●──┤ x ├┤ x ├──●────●──┤ x ├\n",
      "       ╰───╯╭─┴─╮     ╰───╯╰─┬─╯     ╭─┴─╮╰───╯\n",
      "__q0 : ─────┤ x ├────────────●───────┤ x ├─────\n",
      "            ╰───╯                    ╰───╯     \n",
      "\n"
     ]
    }
   ],
   "source": [
    "linear_trans = [[0,0,1], \n",
    "                [0,1,0], \n",
    "                [1,0,0]]\n",
    "circuit = steiner_gauss_synth(path3, linear_trans)\n",
    "print(circuit)"
   ]
  },
  {
   "cell_type": "code",
   "execution_count": 4,
   "id": "meaning-destruction",
   "metadata": {},
   "outputs": [
    {
     "name": "stdout",
     "output_type": "stream",
     "text": [
      "63\n",
      "                 ╭───╮          ╭───╮               ╭───╮               ╭───╮»\n",
      "__q7 : ──●───────┤ x ├──●───────┤ x ├───────●───────┤ x ├───────●───────┤ x ├»\n",
      "       ╭─┴─╮     ╰─┬─╯╭─┴─╮╭───╮╰─┬─╯     ╭─┴─╮╭───╮╰─┬─╯     ╭─┴─╮╭───╮╰─┬─╯»\n",
      "__q6 : ┤ x ├──●────●──┤ x ├┤ x ├──●────●──┤ x ├┤ x ├──●────●──┤ x ├┤ x ├──●──»\n",
      "       ╰───╯╭─┴─╮     ╰───╯╰─┬─╯     ╭─┴─╮├───┤╰─┬─╯     ╭─┴─╮├───┤╰─┬─╯     »\n",
      "__q5 : ─────┤ x ├──●─────────●───────┤ x ├┤ x ├──●────●──┤ x ├┤ x ├──●────●──»\n",
      "            ╰───╯╭─┴─╮               ╰───╯╰─┬─╯     ╭─┴─╮├───┤╰─┬─╯     ╭─┴─╮»\n",
      "__q4 : ──────────┤ x ├──●───────────────────●───────┤ x ├┤ x ├──●────●──┤ x ├»\n",
      "                 ╰───╯╭─┴─╮                         ╰───╯╰─┬─╯     ╭─┴─╮├───┤»\n",
      "__q3 : ───────────────┤ x ├──●─────────────────────────────●───────┤ x ├┤ x ├»\n",
      "                      ╰───╯╭─┴─╮                                   ╰───╯╰─┬─╯»\n",
      "__q2 : ────────────────────┤ x ├──●───────────────────────────────────────●──»\n",
      "                           ╰───╯╭─┴─╮                                        »\n",
      "__q1 : ─────────────────────────┤ x ├──●─────────────────────────────────────»\n",
      "                                ╰───╯╭─┴─╮                                   »\n",
      "__q0 : ──────────────────────────────┤ x ├───────────────────────────────────»\n",
      "                                     ╰───╯                                   »\n",
      "\n",
      "################################################################################\n",
      "\n",
      "               ╭───╮               ╭───╮               ╭───╮          \n",
      "───────●───────┤ x ├───────●───────┤ x ├───────●───────┤ x ├───────●──\n",
      "     ╭─┴─╮╭───╮╰─┬─╯     ╭─┴─╮╭───╮╰─┬─╯     ╭─┴─╮╭───╮╰─┬─╯     ╭─┴─╮\n",
      "──●──┤ x ├┤ x ├──●────●──┤ x ├┤ x ├──●────●──┤ x ├┤ x ├──●────●──┤ x ├\n",
      "╭─┴─╮├───┤╰─┬─╯     ╭─┴─╮├───┤╰─┬─╯     ╭─┴─╮├───┤╰─┬─╯     ╭─┴─╮╰───╯\n",
      "┤ x ├┤ x ├──●────●──┤ x ├┤ x ├──●────●──┤ x ├┤ x ├──●────●──┤ x ├─────\n",
      "├───┤╰─┬─╯     ╭─┴─╮├───┤╰─┬─╯     ╭─┴─╮├───┤╰─┬─╯     ╭─┴─╮╰───╯     \n",
      "┤ x ├──●────●──┤ x ├┤ x ├──●────●──┤ x ├┤ x ├──●────●──┤ x ├──────────\n",
      "╰─┬─╯     ╭─┴─╮├───┤╰─┬─╯     ╭─┴─╮├───┤╰─┬─╯     ╭─┴─╮╰───╯          \n",
      "──●────●──┤ x ├┤ x ├──●────●──┤ x ├┤ x ├──●────●──┤ x ├───────────────\n",
      "     ╭─┴─╮├───┤╰─┬─╯     ╭─┴─╮├───┤╰─┬─╯     ╭─┴─╮╰───╯               \n",
      "─────┤ x ├┤ x ├──●────●──┤ x ├┤ x ├──●────●──┤ x ├────────────────────\n",
      "     ╰───╯╰─┬─╯     ╭─┴─╮├───┤╰─┬─╯     ╭─┴─╮╰───╯                    \n",
      "────────────●───────┤ x ├┤ x ├──●────●──┤ x ├─────────────────────────\n",
      "                    ╰───╯╰─┬─╯     ╭─┴─╮╰───╯                         \n",
      "───────────────────────────●───────┤ x ├──────────────────────────────\n",
      "                                   ╰───╯                              \n",
      "\n"
     ]
    }
   ],
   "source": [
    "from tweedledum.target import Device\n",
    "from tweedledum.synthesis import linear_synth, steiner_gauss_synth\n",
    "\n",
    "path = Device.path(8)\n",
    "linear_trans = [[0,0,0,0,0,0,0,1], \n",
    "                [0,0,0,0,0,0,1,0], \n",
    "                [0,0,0,0,0,1,0,0],\n",
    "                [0,0,0,0,1,0,0,0],\n",
    "                [0,0,0,1,0,0,0,0],\n",
    "                [0,0,1,0,0,0,0,0],\n",
    "                [0,1,0,0,0,0,0,0],\n",
    "                [1,0,0,0,0,0,0,0]]\n",
    "circuit = steiner_gauss_synth(path, linear_trans)\n",
    "print(len(circuit))\n",
    "print(circuit)"
   ]
  },
  {
   "cell_type": "code",
   "execution_count": null,
   "id": "premier-thumbnail",
   "metadata": {},
   "outputs": [],
   "source": []
  }
 ],
 "metadata": {
  "kernelspec": {
   "display_name": "Python 3",
   "language": "python",
   "name": "python3"
  },
  "language_info": {
   "codemirror_mode": {
    "name": "ipython",
    "version": 3
   },
   "file_extension": ".py",
   "mimetype": "text/x-python",
   "name": "python",
   "nbconvert_exporter": "python",
   "pygments_lexer": "ipython3",
   "version": "3.9.2"
  }
 },
 "nbformat": 4,
 "nbformat_minor": 5
}
