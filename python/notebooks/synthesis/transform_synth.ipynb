{
 "cells": [
  {
   "cell_type": "code",
   "execution_count": 2,
   "id": "realistic-correlation",
   "metadata": {},
   "outputs": [
    {
     "name": "stdout",
     "output_type": "stream",
     "text": [
      "       ╭───╮     ╭───╮     \n",
      "__q2 : ┤ x ├──●──┤ x ├─────\n",
      "       ╰─┬─╯╭─┴─╮╰─┬─╯     \n",
      "__q1 : ──┼──┤ x ├──●────●──\n",
      "         │  ╰───╯  │  ╭─┴─╮\n",
      "__q0 : ──●─────────●──┤ x ├\n",
      "                      ╰───╯\n",
      "\n"
     ]
    }
   ],
   "source": [
    "from tweedledum.synthesis import transform_synth\n",
    "\n",
    "circuit = transform_synth([0, 2, 3, 5, 7, 1, 4, 6])\n",
    "print(circuit)"
   ]
  },
  {
   "cell_type": "code",
   "execution_count": null,
   "id": "brown-appeal",
   "metadata": {},
   "outputs": [],
   "source": []
  }
 ],
 "metadata": {
  "kernelspec": {
   "display_name": "Python 3",
   "language": "python",
   "name": "python3"
  },
  "language_info": {
   "codemirror_mode": {
    "name": "ipython",
    "version": 3
   },
   "file_extension": ".py",
   "mimetype": "text/x-python",
   "name": "python",
   "nbconvert_exporter": "python",
   "pygments_lexer": "ipython3",
   "version": "3.9.2"
  }
 },
 "nbformat": 4,
 "nbformat_minor": 5
}
