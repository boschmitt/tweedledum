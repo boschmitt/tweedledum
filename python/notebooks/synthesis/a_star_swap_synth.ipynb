{
 "cells": [
  {
   "cell_type": "code",
   "execution_count": 1,
   "id": "chinese-annex",
   "metadata": {},
   "outputs": [
    {
     "name": "stdout",
     "output_type": "stream",
     "text": [
      "28\n"
     ]
    }
   ],
   "source": [
    "from tweedledum.target import Device\n",
    "from tweedledum.synthesis import a_star_swap_synth\n",
    "\n",
    "path = Device.path(8)\n",
    "circuit = a_star_swap_synth(path, [0, 1, 2, 3, 4, 5, 6, 7], [7, 6, 5, 4, 3, 2, 1, 0])\n",
    "print(len(circuit))"
   ]
  },
  {
   "cell_type": "code",
   "execution_count": 2,
   "id": "different-graduation",
   "metadata": {},
   "outputs": [
    {
     "name": "stdout",
     "output_type": "stream",
     "text": [
      "                                                    \n",
      "__q7 : ─╳────────╳─────╳─────────────────╳──────────\n",
      "        │        │     │                 │          \n",
      "__q6 : ─╳─────╳──╳──╳──╳──────────────╳──╳────────╳─\n",
      "              │     │                 │           │ \n",
      "__q5 : ────╳──╳──╳──╳──────────────╳──╳────────╳──╳─\n",
      "           │     │                 │           │    \n",
      "__q4 : ─╳──╳──╳──╳──╳───────────╳──╳──╳─────╳──╳────\n",
      "        │     │     │           │     │     │       \n",
      "__q3 : ─╳──╳──╳─────╳──╳─────╳──╳─────╳──╳──╳──╳────\n",
      "           │           │     │           │     │    \n",
      "__q2 : ────╳───────────╳──╳──╳──╳────────╳──╳──╳────\n",
      "                          │     │           │       \n",
      "__q1 : ─╳─────────────────╳──╳──╳───────────╳───────\n",
      "        │                    │                      \n",
      "__q0 : ─╳────────────────────╳──────────────────────\n",
      "                                                    \n",
      "\n"
     ]
    }
   ],
   "source": [
    "print(circuit)"
   ]
  },
  {
   "cell_type": "code",
   "execution_count": null,
   "id": "premier-thumbnail",
   "metadata": {},
   "outputs": [],
   "source": []
  }
 ],
 "metadata": {
  "kernelspec": {
   "display_name": "Python 3",
   "language": "python",
   "name": "python3"
  },
  "language_info": {
   "codemirror_mode": {
    "name": "ipython",
    "version": 3
   },
   "file_extension": ".py",
   "mimetype": "text/x-python",
   "name": "python",
   "nbconvert_exporter": "python",
   "pygments_lexer": "ipython3",
   "version": "3.9.2"
  }
 },
 "nbformat": 4,
 "nbformat_minor": 5
}
