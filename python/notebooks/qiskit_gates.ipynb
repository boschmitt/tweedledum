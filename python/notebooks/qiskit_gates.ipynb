{
 "cells": [
  {
   "cell_type": "code",
   "execution_count": 9,
   "id": "convertible-southwest",
   "metadata": {},
   "outputs": [
    {
     "data": {
      "text/plain": [
       "<tweedledum._tweedledum.ir.InstRef at 0x1329cce30>"
      ]
     },
     "execution_count": 9,
     "metadata": {},
     "output_type": "execute_result"
    }
   ],
   "source": [
    "from tweedledum.ir import Circuit\n",
    "from qiskit.circuit.library.standard_gates import ZGate, XGate, HGate, CCXGate, CXGate, MCXGate, TdgGate, TGate\n",
    "\n",
    "# Build a tweedledum circuit using QISKIT gates:\n",
    "circuit = Circuit()\n",
    "qubits = [circuit.create_qubit() for i in range(3)]\n",
    "circuit.apply_operator(HGate(), [qubits[2]])\n",
    "circuit.apply_operator(CXGate(), [qubits[1], qubits[2]])\n",
    "circuit.apply_operator(TdgGate(), [qubits[2]])\n",
    "circuit.apply_operator(CXGate(), [qubits[0], qubits[2]])\n",
    "circuit.apply_operator(TGate(), [qubits[2]])\n",
    "circuit.apply_operator(XGate(), [qubits[1], qubits[2]])\n",
    "circuit.apply_operator(TdgGate(), [qubits[2]])\n",
    "circuit.apply_operator(CXGate(), [qubits[0], qubits[2]])\n",
    "circuit.apply_operator(TGate(), [qubits[1]])\n",
    "circuit.apply_operator(TGate(), [qubits[2]])\n",
    "circuit.apply_operator(HGate(), [qubits[2]])\n",
    "circuit.apply_operator(CXGate(), [qubits[0], qubits[1]])\n",
    "circuit.apply_operator(TGate(), [qubits[0]])\n",
    "circuit.apply_operator(TdgGate(), [qubits[1]])\n",
    "circuit.apply_operator(CXGate(), [qubits[0], qubits[1]])"
   ]
  },
  {
   "cell_type": "code",
   "execution_count": 10,
   "id": "saved-newman",
   "metadata": {},
   "outputs": [
    {
     "name": "stdout",
     "output_type": "stream",
     "text": [
      "       ╭─────────────╮╭─────────────╮╭─────────────╮╭─────────────╮»\n",
      "__q2 : ┤ py_operator ├┤ py_operator ├┤ py_operator ├┤ py_operator ├»\n",
      "       ╰─────────────╯╰──────┬──────╯╰─────────────╯╰──────┬──────╯»\n",
      "__q1 : ──────────────────────●─────────────────────────────┼───────»\n",
      "                                                           │       »\n",
      "__q0 : ────────────────────────────────────────────────────●───────»\n",
      "                                                                   »\n",
      "\n",
      "################################################################################\n",
      "\n",
      "╭─────────────╮╭─────────────╮╭─────────────╮╭─────────────╮╭─────────────╮»\n",
      "┤ py_operator ├┤ py_operator ├┤ py_operator ├┤ py_operator ├┤ py_operator ├»\n",
      "╰─────────────╯╰──────┬──────╯╰─────────────╯╰──────┬──────╯├─────────────┤»\n",
      "──────────────────────●─────────────────────────────┼───────┤ py_operator ├»\n",
      "                                                    │       ╰─────────────╯»\n",
      "────────────────────────────────────────────────────●──────────────────────»\n",
      "                                                                           »\n",
      "\n",
      "################################################################################\n",
      "\n",
      "╭─────────────╮                              \n",
      "┤ py_operator ├──────────────────────────────\n",
      "├─────────────┤╭─────────────╮╭─────────────╮\n",
      "┤ py_operator ├┤ py_operator ├┤ py_operator ├\n",
      "╰──────┬──────╯├─────────────┤╰──────┬──────╯\n",
      "───────●───────┤ py_operator ├───────●───────\n",
      "               ╰─────────────╯               \n",
      "\n"
     ]
    }
   ],
   "source": [
    "print(circuit)"
   ]
  },
  {
   "cell_type": "code",
   "execution_count": 8,
   "id": "regulation-kinase",
   "metadata": {},
   "outputs": [
    {
     "name": "stdout",
     "output_type": "stream",
     "text": [
      "<qiskit.circuit.library.standard_gates.h.HGate object at 0x107f96c70>\n",
      "<qiskit.circuit.library.standard_gates.x.CXGate object at 0x107eedb20>\n",
      "<qiskit.circuit.library.standard_gates.t.TdgGate object at 0x107f966d0>\n",
      "<qiskit.circuit.library.standard_gates.x.CXGate object at 0x107f96af0>\n",
      "<qiskit.circuit.library.standard_gates.t.TGate object at 0x107f96850>\n",
      "<qiskit.circuit.library.standard_gates.x.XGate object at 0x107f96b50>\n",
      "<qiskit.circuit.library.standard_gates.t.TdgGate object at 0x107f96880>\n",
      "<qiskit.circuit.library.standard_gates.x.CXGate object at 0x107f96cd0>\n",
      "<qiskit.circuit.library.standard_gates.t.TGate object at 0x107f96640>\n",
      "<qiskit.circuit.library.standard_gates.t.TGate object at 0x107f96b80>\n",
      "<qiskit.circuit.library.standard_gates.h.HGate object at 0x10e4acd60>\n",
      "<qiskit.circuit.library.standard_gates.x.CXGate object at 0x10e022040>\n",
      "<qiskit.circuit.library.standard_gates.t.TGate object at 0x12e1c5bb0>\n",
      "<qiskit.circuit.library.standard_gates.t.TdgGate object at 0x12e1c5c40>\n",
      "<qiskit.circuit.library.standard_gates.x.CXGate object at 0x13297bee0>\n"
     ]
    }
   ],
   "source": [
    "for inst in circuit:\n",
    "    qiskit_op = inst.py_op()\n",
    "    print(qiskit_op)"
   ]
  },
  {
   "cell_type": "code",
   "execution_count": null,
   "id": "adequate-arnold",
   "metadata": {},
   "outputs": [],
   "source": []
  }
 ],
 "metadata": {
  "kernelspec": {
   "display_name": "Python 3",
   "language": "python",
   "name": "python3"
  },
  "language_info": {
   "codemirror_mode": {
    "name": "ipython",
    "version": 3
   },
   "file_extension": ".py",
   "mimetype": "text/x-python",
   "name": "python",
   "nbconvert_exporter": "python",
   "pygments_lexer": "ipython3",
   "version": "3.9.2"
  }
 },
 "nbformat": 4,
 "nbformat_minor": 5
}
