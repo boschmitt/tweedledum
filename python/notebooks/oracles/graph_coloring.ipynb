{
 "cells": [
  {
   "cell_type": "markdown",
   "id": "frequent-finger",
   "metadata": {},
   "source": [
    "# Graph Coloring Oracle"
   ]
  },
  {
   "cell_type": "code",
   "execution_count": 1,
   "id": "planned-singles",
   "metadata": {},
   "outputs": [],
   "source": [
    "from tweedledum.bool_function_compiler import BitVec\n",
    "\n",
    "invalid = BitVec('00')\n",
    "red = BitVec('01')\n",
    "blue = BitVec('10')\n",
    "purple = BitVec('11')"
   ]
  },
  {
   "cell_type": "markdown",
   "id": "liable-pizza",
   "metadata": {},
   "source": [
    "## Configurations"
   ]
  },
  {
   "cell_type": "code",
   "execution_count": 2,
   "id": "mysterious-shannon",
   "metadata": {},
   "outputs": [],
   "source": [
    "oracle_type = 'naive' # (naive, fancy)\n",
    "syntehsis_method = 'xag' # (pkrm, xag)\n",
    "\n",
    "# Optimization options\n",
    "use_barenco_decomp = True\n",
    "use_linear_resynth = False\n",
    "use_diagonal_synth = True"
   ]
  },
  {
   "cell_type": "markdown",
   "id": "royal-sword",
   "metadata": {},
   "source": [
    "## Oracles"
   ]
  },
  {
   "cell_type": "code",
   "execution_count": 3,
   "id": "fitted-bearing",
   "metadata": {},
   "outputs": [],
   "source": [
    "from tweedledum.bool_function_compiler import BoolFunction\n",
    "\n",
    "def naive(v0, v1, v2, v3 : BitVec(2)) -> BitVec(1):\n",
    "    c_01 = (v0 != v1)\n",
    "    c_123 = (v1 != v2) and (v1 != v3) and (v2 != v3)\n",
    "    color_00 = (v0 != BitVec('00')) and (v1 != BitVec('00')) and (v2 != BitVec('00')) and (v3 != BitVec('00'))\n",
    "    return c_01 and c_123 and color_00\n",
    "\n",
    "def fancy(v0, v1, v2, v3 : BitVec(2)) -> BitVec(1):\n",
    "    c_01 = (v0 != v1)\n",
    "    c_123 = (v1 != v2) and (v1 != v3) and (v2 != v3)\n",
    "    return c_01 and c_123\n",
    "\n",
    "oracle_func = BoolFunction(naive) if oracle_type == 'naive' else BoolFunction(fancy)"
   ]
  },
  {
   "cell_type": "code",
   "execution_count": 4,
   "id": "random-upgrade",
   "metadata": {},
   "outputs": [
    {
     "name": "stdout",
     "output_type": "stream",
     "text": [
      "Try 1: 0\n",
      "Try 2: 1\n",
      "Try 3: 0\n"
     ]
    }
   ],
   "source": [
    "print(f\"Try 1: {oracle_func.simulate(red, red, blue, purple)}\")\n",
    "print(f\"Try 2: {oracle_func.simulate(blue, red, blue, purple)}\")\n",
    "if oracle_type == 'naive':\n",
    "    print(f\"Try 3: {oracle_func.simulate(invalid, red, blue, purple)}\")\n",
    "    # When using the fancy oracle, we promise to not query it with 'invalid'\n",
    "    # If we do, the result will be garbage!"
   ]
  },
  {
   "cell_type": "code",
   "execution_count": 5,
   "id": "right-individual",
   "metadata": {},
   "outputs": [
    {
     "name": "stdout",
     "output_type": "stream",
     "text": [
      "01 11 10 01\n",
      "10 11 10 01\n",
      "01 10 11 01\n",
      "11 10 11 01\n",
      "01 11 01 10\n",
      "10 11 01 10\n",
      "10 01 11 10\n",
      "11 01 11 10\n",
      "01 10 01 11\n",
      "11 10 01 11\n",
      "10 01 10 11\n",
      "11 01 10 11\n",
      "Search space size: 256\n",
      "Number of solutions: 12\n"
     ]
    }
   ],
   "source": [
    "# Using l337 programming skills:\n",
    "search_space_size = 0\n",
    "num_solutions = 0\n",
    "for i in range(2**(2*4)):\n",
    "    v = BitVec(8, i)\n",
    "    if oracle_type == 'fancy' and BitVec('00') in [v[2:0], v[4:2], v[6:4], v[8:6]]:\n",
    "        continue\n",
    "    search_space_size += 1\n",
    "    result = oracle_func.simulate(v[2:0], v[4:2], v[6:4], v[8:6])\n",
    "    if result:\n",
    "        num_solutions += 1\n",
    "        print(v[2:0], v[4:2], v[6:4], v[8:6])\n",
    "        \n",
    "print(f\"Search space size: {search_space_size}\")\n",
    "print(f\"Number of solutions: {num_solutions}\")"
   ]
  },
  {
   "cell_type": "code",
   "execution_count": 6,
   "id": "insured-penguin",
   "metadata": {},
   "outputs": [],
   "source": [
    "from tweedledum.synthesis import xag_synth, pkrm_synth\n",
    "\n",
    "def use_pkrm(bool_function):\n",
    "    return pkrm_synth(bool_function.truth_table(output_bit=0))\n",
    "\n",
    "def use_xag(bool_function):\n",
    "    from tweedledum.passes import parity_decomp\n",
    "    circuit = xag_synth(bool_function.logic_network())\n",
    "    return parity_decomp(circuit)"
   ]
  },
  {
   "cell_type": "code",
   "execution_count": 7,
   "id": "compressed-graph",
   "metadata": {},
   "outputs": [
    {
     "name": "stdout",
     "output_type": "stream",
     "text": [
      "Number of qubits: 23\n",
      "Number of instructions: 61\n"
     ]
    }
   ],
   "source": [
    "oracle_circuit = use_pkrm(oracle_func) if syntehsis_method == 'pkrm' else use_xag(oracle_func)\n",
    "if use_barenco_decomp:\n",
    "    from tweedledum.passes import barenco_decomp\n",
    "    oracle_circuit = barenco_decomp(oracle_circuit, {'max_qubits' : 16})\n",
    "print(f\"Number of qubits: {oracle_circuit.num_qubits()}\")\n",
    "print(f\"Number of instructions: {len(oracle_circuit)}\")"
   ]
  },
  {
   "cell_type": "markdown",
   "id": "affiliated-orange",
   "metadata": {},
   "source": [
    "## Initialization subcircuit"
   ]
  },
  {
   "cell_type": "code",
   "execution_count": 8,
   "id": "expanded-alignment",
   "metadata": {},
   "outputs": [],
   "source": [
    "import numpy as np\n",
    "from tweedledum.ir import Circuit\n",
    "from tweedledum.operators import H, Ry, X, Measure\n",
    "from tweedledum.passes import inverse\n",
    "\n",
    "def naive_init():\n",
    "    circuit = Circuit()\n",
    "    qubits = [circuit.create_qubit() for i in range(8)]\n",
    "    for qubit in qubits:\n",
    "        circuit.apply_operator(H(), [qubit])\n",
    "    return circuit\n",
    "        \n",
    "def fancy_init():\n",
    "    theta = 2 * np.arccos(1 / np.sqrt(3))\n",
    "    circuit = Circuit()\n",
    "    qubits = [circuit.create_qubit() for i in range(8)]\n",
    "    for i in range(0, 8, 2):\n",
    "        circuit.apply_operator(Ry(theta), [qubits[i]])\n",
    "        circuit.apply_operator(H(), [qubits[i], qubits[i + 1]])\n",
    "        circuit.apply_operator(X(), [qubits[i + 1]])\n",
    "\n",
    "    return circuit\n",
    "\n",
    "init_subcircuit = naive_init() if oracle_type == 'naive' else fancy_init()\n",
    "init_adj_subcircuit = inverse(init_subcircuit)"
   ]
  },
  {
   "cell_type": "markdown",
   "id": "existing-mailing",
   "metadata": {},
   "source": [
    "## Diffuser subcircuit"
   ]
  },
  {
   "cell_type": "code",
   "execution_count": 9,
   "id": "amazing-graphics",
   "metadata": {},
   "outputs": [],
   "source": [
    "from tweedledum.operators import X, Z\n",
    "\n",
    "diffuser_subcircuit = Circuit()\n",
    "qubits = [diffuser_subcircuit.create_qubit() for i in range(9)] \n",
    "# Why 9? I need to account for the output qubit! Also if barenco is used\n",
    "# this qubit should be left alone as it where the output rests!\n",
    "\n",
    "diffuser_subcircuit.append(init_adj_subcircuit, qubits[0:init_subcircuit.num_qubits()], [])\n",
    "for qubit in qubits[0:8]:\n",
    "    diffuser_subcircuit.apply_operator(X(), [qubit])\n",
    "diffuser_subcircuit.apply_operator(Z(), qubits[0:8])\n",
    "for qubit in qubits[0:8]:\n",
    "    diffuser_subcircuit.apply_operator(X(), [qubit])\n",
    "diffuser_subcircuit.append(init_subcircuit, qubits[0:init_adj_subcircuit.num_qubits()], [])\n",
    "\n",
    "if use_barenco_decomp:\n",
    "    from tweedledum.passes import barenco_decomp\n",
    "    diffuser_subcircuit = barenco_decomp(diffuser_subcircuit, {'max_qubits' : 16})"
   ]
  },
  {
   "cell_type": "markdown",
   "id": "official-sight",
   "metadata": {},
   "source": [
    "## Grover circuit"
   ]
  },
  {
   "cell_type": "code",
   "execution_count": 10,
   "id": "dried-dividend",
   "metadata": {},
   "outputs": [
    {
     "name": "stdout",
     "output_type": "stream",
     "text": [
      "Number of qubits: 23\n",
      "Number of instructions: 1802\n"
     ]
    }
   ],
   "source": [
    "# Initialize\n",
    "num_qubits = max(oracle_circuit.num_qubits(), diffuser_subcircuit.num_qubits())\n",
    "circuit = Circuit()\n",
    "qubits = [circuit.create_qubit() for i in range(num_qubits)]\n",
    "cbits = [circuit.create_cbit() for i in range(8)]\n",
    "\n",
    "circuit.apply_operator(X(), [qubits[8]])\n",
    "circuit.apply_operator(H(), [qubits[8]])\n",
    "\n",
    "circuit.append(init_subcircuit, qubits[0:init_subcircuit.num_qubits()], [])\n",
    "\n",
    "# Grover iteration\n",
    "num_iterations = int(np.floor(np.sqrt(search_space_size / num_solutions)))\n",
    "for i in range(num_iterations):\n",
    "    circuit.append(oracle_circuit, qubits[0:oracle_circuit.num_qubits()], [])\n",
    "    circuit.append(diffuser_subcircuit, qubits[0:diffuser_subcircuit.num_qubits()], [])\n",
    "\n",
    "if use_diagonal_synth:\n",
    "    from tweedledum.ir import rotation_angle\n",
    "    from tweedledum.passes import shallow_duplicate\n",
    "    from tweedledum.synthesis import diagonal_synth\n",
    "\n",
    "    new_circuit = shallow_duplicate(circuit)\n",
    "    for instruction in circuit:\n",
    "        if instruction.kind() == 'std.rx':\n",
    "            angle = rotation_angle(instruction)\n",
    "            qs = instruction.qubits()\n",
    "            angles = [0.0, 0.0, 0.0, 0.0, 0.0, 0.0, -angle/2, angle/2]\n",
    "            new_circuit.apply_operator(H(), [qs[-1]])\n",
    "            diagonal_synth(new_circuit, qs, instruction.cbits(), angles)\n",
    "            new_circuit.apply_operator(H(), [qs[-1]])\n",
    "        else:\n",
    "            new_circuit.apply_operator(instruction)\n",
    "    circuit = new_circuit\n",
    "\n",
    "for i in range(circuit.num_cbits()):\n",
    "    circuit.apply_operator(Measure(), [qubits[i]], [cbits[i]])\n",
    "\n",
    "print(f\"Number of qubits: {circuit.num_qubits()}\")\n",
    "print(f\"Number of instructions: {len(circuit)}\")"
   ]
  },
  {
   "cell_type": "markdown",
   "id": "moved-connecticut",
   "metadata": {},
   "source": [
    "## Local simulation"
   ]
  },
  {
   "cell_type": "code",
   "execution_count": 11,
   "id": "apart-porter",
   "metadata": {},
   "outputs": [],
   "source": [
    "from tweedledum.converters_qiskit import tweedledum_to_qiskit_qc\n",
    "\n",
    "qiskit_circuit = tweedledum_to_qiskit_qc(circuit)"
   ]
  },
  {
   "cell_type": "code",
   "execution_count": 12,
   "id": "numerical-potato",
   "metadata": {},
   "outputs": [],
   "source": [
    "import qiskit\n",
    "from qiskit.providers.aer import QasmSimulator\n",
    "\n",
    "# Construct an ideal simulator\n",
    "sim = QasmSimulator()\n",
    "\n",
    "# Perform an ideal simulation\n",
    "result_ideal = qiskit.execute(qiskit_circuit, sim).result()\n",
    "counts_ideal = result_ideal.get_counts(0)"
   ]
  },
  {
   "cell_type": "code",
   "execution_count": 13,
   "id": "offensive-prevention",
   "metadata": {},
   "outputs": [
    {
     "name": "stdout",
     "output_type": "stream",
     "text": [
      "01 10 11 01 (94) 1\n",
      "10 11 01 10 (82) 1\n",
      "11 10 11 01 (81) 1\n",
      "01 11 01 10 (77) 1\n",
      "01 10 01 11 (76) 1\n",
      "01 11 10 01 (72) 1\n",
      "10 11 10 01 (72) 1\n",
      "11 01 11 10 (71) 1\n",
      "11 10 01 11 (71) 1\n",
      "10 01 10 11 (66) 1\n",
      "10 01 11 10 (61) 1\n",
      "11 01 10 11 (58) 1\n",
      "11 10 01 01 (3) 0\n",
      "11 01 00 00 (3) 0\n",
      "00 10 00 00 (3) 0\n",
      "01 00 00 11 (3) 0\n",
      "01 00 01 00 (2) 0\n",
      "01 00 10 00 (2) 0\n",
      "00 01 10 00 (2) 0\n",
      "00 11 10 00 (2) 0\n",
      "11 01 11 00 (2) 0\n",
      "11 10 11 00 (2) 0\n",
      "11 10 00 01 (2) 0\n",
      "10 00 11 01 (2) 0\n",
      "10 00 00 10 (2) 0\n",
      "01 10 00 00 (2) 0\n",
      "01 00 01 10 (2) 0\n",
      "00 10 10 10 (2) 0\n",
      "11 10 00 00 (2) 0\n",
      "00 01 11 10 (2) 0\n",
      "01 01 11 10 (2) 0\n",
      "00 11 00 00 (2) 0\n",
      "00 01 00 11 (2) 0\n",
      "00 10 00 11 (2) 0\n",
      "01 01 01 11 (2) 0\n",
      "01 11 01 11 (2) 0\n",
      "10 10 10 11 (2) 0\n",
      "10 11 10 11 (2) 0\n",
      "11 11 00 00 (2) 0\n",
      "00 01 11 11 (2) 0\n",
      "10 10 11 11 (2) 0\n",
      "00 00 01 00 (1) 0\n",
      "11 00 01 00 (1) 0\n",
      "10 01 01 00 (1) 0\n",
      "11 01 01 00 (1) 0\n",
      "01 10 01 00 (1) 0\n",
      "11 10 01 00 (1) 0\n",
      "01 11 01 00 (1) 0\n",
      "00 00 10 00 (1) 0\n",
      "10 00 10 00 (1) 0\n",
      "10 10 10 00 (1) 0\n",
      "01 11 10 00 (1) 0\n",
      "11 11 10 00 (1) 0\n",
      "01 00 11 00 (1) 0\n",
      "10 00 11 00 (1) 0\n",
      "01 01 11 00 (1) 0\n",
      "10 01 11 00 (1) 0\n",
      "01 10 11 00 (1) 0\n",
      "00 11 11 00 (1) 0\n",
      "01 11 11 00 (1) 0\n",
      "10 11 11 00 (1) 0\n",
      "01 00 00 01 (1) 0\n",
      "11 00 00 01 (1) 0\n",
      "00 01 00 01 (1) 0\n",
      "10 01 00 01 (1) 0\n",
      "00 10 00 01 (1) 0\n",
      "10 10 00 01 (1) 0\n",
      "00 11 00 01 (1) 0\n",
      "01 11 00 01 (1) 0\n",
      "00 00 01 01 (1) 0\n",
      "01 00 01 01 (1) 0\n",
      "00 01 01 01 (1) 0\n",
      "01 01 01 01 (1) 0\n",
      "00 10 01 01 (1) 0\n",
      "10 11 01 01 (1) 0\n",
      "00 00 10 01 (1) 0\n",
      "01 00 10 01 (1) 0\n",
      "10 01 10 01 (1) 0\n",
      "11 11 10 01 (1) 0\n",
      "01 01 11 01 (1) 0\n",
      "10 10 11 01 (1) 0\n",
      "01 11 11 01 (1) 0\n",
      "11 00 00 10 (1) 0\n",
      "11 01 00 10 (1) 0\n",
      "11 10 00 10 (1) 0\n",
      "00 11 00 10 (1) 0\n",
      "01 01 01 10 (1) 0\n",
      "00 01 10 10 (1) 0\n",
      "01 01 10 10 (1) 0\n",
      "10 01 10 10 (1) 0\n",
      "11 01 10 10 (1) 0\n",
      "01 10 10 10 (1) 0\n",
      "10 10 10 10 (1) 0\n",
      "11 10 10 10 (1) 0\n",
      "11 11 10 10 (1) 0\n",
      "00 00 11 10 (1) 0\n",
      "01 00 11 10 (1) 0\n",
      "00 10 11 10 (1) 0\n",
      "01 10 11 10 (1) 0\n",
      "00 11 11 10 (1) 0\n",
      "10 00 00 11 (1) 0\n",
      "01 10 00 11 (1) 0\n",
      "00 11 00 11 (1) 0\n",
      "01 11 00 00 (1) 0\n",
      "00 00 01 11 (1) 0\n",
      "01 00 01 11 (1) 0\n",
      "10 00 01 11 (1) 0\n",
      "10 01 01 11 (1) 0\n",
      "11 01 01 11 (1) 0\n",
      "00 10 01 11 (1) 0\n",
      "00 11 01 11 (1) 0\n",
      "00 00 10 11 (1) 0\n",
      "11 00 10 11 (1) 0\n",
      "01 01 10 11 (1) 0\n",
      "11 10 10 11 (1) 0\n",
      "01 11 10 11 (1) 0\n",
      "01 00 11 11 (1) 0\n",
      "10 01 11 11 (1) 0\n",
      "11 10 11 11 (1) 0\n",
      "01 11 11 11 (1) 0\n",
      "10 11 11 11 (1) 0\n",
      "11 11 11 11 (1) 0\n"
     ]
    }
   ],
   "source": [
    "# Sort count\n",
    "count_sorted = sorted(counts_ideal.items(), key=lambda x:x[1], reverse=True)\n",
    "\n",
    "for bit_string, count in count_sorted:\n",
    "    v = BitVec(bit_string)\n",
    "    print(v[2:0], v[4:2], v[6:4], v[8:6], f'({count})', (oracle_func.simulate(v[2:0], v[4:2], v[6:4], v[8:6])))"
   ]
  },
  {
   "cell_type": "code",
   "execution_count": null,
   "id": "computational-arctic",
   "metadata": {},
   "outputs": [],
   "source": []
  }
 ],
 "metadata": {
  "kernelspec": {
   "display_name": "Python 3",
   "language": "python",
   "name": "python3"
  },
  "language_info": {
   "codemirror_mode": {
    "name": "ipython",
    "version": 3
   },
   "file_extension": ".py",
   "mimetype": "text/x-python",
   "name": "python",
   "nbconvert_exporter": "python",
   "pygments_lexer": "ipython3",
   "version": "3.9.2"
  }
 },
 "nbformat": 4,
 "nbformat_minor": 5
}
