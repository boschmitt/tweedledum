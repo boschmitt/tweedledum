{
 "cells": [
  {
   "cell_type": "code",
   "execution_count": 3,
   "id": "noble-update",
   "metadata": {},
   "outputs": [
    {
     "name": "stdout",
     "output_type": "stream",
     "text": [
      "                 ╭───╮╭───╮\n",
      "__q1 : ──────────┤ x ├┤ x ├\n",
      "       ╭───╮╭───╮╰─┬─╯╰─┬─╯\n",
      "__q0 : ┤ h ├┤ h ├──●────●──\n",
      "       ╰───╯╰───╯          \n",
      "\n"
     ]
    }
   ],
   "source": [
    "from tweedledum.ir import Circuit\n",
    "from tweedledum.operators import H, X\n",
    "\n",
    "circuit = Circuit()\n",
    "qubits = [circuit.create_qubit() for i in range(2)]\n",
    "\n",
    "circuit.apply_operator(H(), [qubits[0]])\n",
    "circuit.apply_operator(H(), [qubits[0]])\n",
    "circuit.apply_operator(X(), qubits)\n",
    "circuit.apply_operator(X(), qubits)\n",
    "print(circuit)"
   ]
  },
  {
   "cell_type": "code",
   "execution_count": 4,
   "id": "intense-shoulder",
   "metadata": {},
   "outputs": [
    {
     "name": "stdout",
     "output_type": "stream",
     "text": [
      "       \n",
      "__q1 : \n",
      "       \n",
      "__q0 : \n",
      "       \n",
      "\n"
     ]
    }
   ],
   "source": [
    "from tweedledum.passes import gate_cancellation\n",
    "\n",
    "opt = gate_cancellation(circuit)\n",
    "print(opt)"
   ]
  },
  {
   "cell_type": "code",
   "execution_count": null,
   "id": "personal-mayor",
   "metadata": {},
   "outputs": [],
   "source": []
  }
 ],
 "metadata": {
  "kernelspec": {
   "display_name": "Python 3",
   "language": "python",
   "name": "python3"
  },
  "language_info": {
   "codemirror_mode": {
    "name": "ipython",
    "version": 3
   },
   "file_extension": ".py",
   "mimetype": "text/x-python",
   "name": "python",
   "nbconvert_exporter": "python",
   "pygments_lexer": "ipython3",
   "version": "3.9.2"
  }
 },
 "nbformat": 4,
 "nbformat_minor": 5
}
