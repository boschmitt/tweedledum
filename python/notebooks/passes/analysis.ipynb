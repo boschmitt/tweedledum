{
 "cells": [
  {
   "cell_type": "code",
   "execution_count": 4,
   "id": "crucial-aviation",
   "metadata": {},
   "outputs": [
    {
     "name": "stdout",
     "output_type": "stream",
     "text": [
      "       ╭───╮╭───╮╭─────╮╭───╮╭───╮╭───╮╭─────╮╭───╮╭───╮╭───╮               »\n",
      "__q2 : ┤ h ├┤ x ├┤ tdg ├┤ x ├┤ t ├┤ x ├┤ tdg ├┤ x ├┤ t ├┤ h ├───────────────»\n",
      "       ╰───╯╰─┬─╯╰─────╯╰─┬─╯╰───╯╰─┬─╯╰─────╯╰─┬─╯├───┤├───┤╭─────╮╭───╮   »\n",
      "__q1 : ───────●───────────┼─────────●───────────┼──┤ t ├┤ x ├┤ tdg ├┤ x ├───»\n",
      "                          │                     │  ╰───╯╰─┬─╯╰─────╯╰─┬─╯╭─╮»\n",
      "__q0 : ───────────────────●─────────────────────●─────────●───┤ t ├───●──┤m├»\n",
      "                                                              ╰───╯      ╰╥╯»\n",
      "       ═══════════════════════════════════════════════════════════════════V═»\n",
      "                                                                          3 »\n",
      "\n",
      "################################################################################\n",
      "\n",
      "   ╭─╮\n",
      "───┤m├\n",
      "╭─╮╰╥╯\n",
      "┤m├─╫─\n",
      "╰╥╯ ║ \n",
      "─╫──╫─\n",
      " ║  ║ \n",
      "═V══V═\n",
      " 4  5 \n",
      "\n"
     ]
    }
   ],
   "source": [
    "from tweedledum.ir import Circuit\n",
    "from tweedledum.operators import H, X, T, Tdg, P, Measure\n",
    "\n",
    "circuit = Circuit()\n",
    "qubits = [circuit.create_qubit() for i in range(3)]\n",
    "cbits = [circuit.create_cbit() for i in range(3)]\n",
    "circuit.apply_operator(H(), [qubits[2]])\n",
    "circuit.apply_operator(X(), [qubits[1], qubits[2]])\n",
    "circuit.apply_operator(Tdg(), [qubits[2]])\n",
    "circuit.apply_operator(X(), [qubits[0], qubits[2]])\n",
    "circuit.apply_operator(T(), [qubits[2]])\n",
    "circuit.apply_operator(X(), [qubits[1], qubits[2]])\n",
    "circuit.apply_operator(Tdg(), [qubits[2]])\n",
    "circuit.apply_operator(X(), [qubits[0], qubits[2]])\n",
    "circuit.apply_operator(T(), [qubits[1]])\n",
    "circuit.apply_operator(T(), [qubits[2]])\n",
    "circuit.apply_operator(H(), [qubits[2]])\n",
    "circuit.apply_operator(X(), [qubits[0], qubits[1]])\n",
    "circuit.apply_operator(T(), [qubits[0]])\n",
    "circuit.apply_operator(Tdg(), [qubits[1]])\n",
    "circuit.apply_operator(X(), [qubits[0], qubits[1]])\n",
    "circuit.apply_operator(Measure(), [qubits[0]], [cbits[0]])\n",
    "circuit.apply_operator(Measure(), [qubits[1]], [cbits[1]])\n",
    "circuit.apply_operator(Measure(), [qubits[2]], [cbits[2]])\n",
    "print(circuit)"
   ]
  },
  {
   "cell_type": "code",
   "execution_count": 6,
   "id": "opposed-pointer",
   "metadata": {},
   "outputs": [
    {
     "name": "stdout",
     "output_type": "stream",
     "text": [
      "12\n",
      "{'m': 3, 'tdg': 3, 't': 4, '(1c)x': 6, 'h': 2}\n"
     ]
    }
   ],
   "source": [
    "from tweedledum.passes import depth, count_operators\n",
    "\n",
    "print(depth(circuit))\n",
    "print(count_operators(circuit))"
   ]
  },
  {
   "cell_type": "code",
   "execution_count": null,
   "id": "suburban-basis",
   "metadata": {},
   "outputs": [],
   "source": []
  }
 ],
 "metadata": {
  "kernelspec": {
   "display_name": "Python 3",
   "language": "python",
   "name": "python3"
  },
  "language_info": {
   "codemirror_mode": {
    "name": "ipython",
    "version": 3
   },
   "file_extension": ".py",
   "mimetype": "text/x-python",
   "name": "python",
   "nbconvert_exporter": "python",
   "pygments_lexer": "ipython3",
   "version": "3.9.2"
  }
 },
 "nbformat": 4,
 "nbformat_minor": 5
}
