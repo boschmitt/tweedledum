{
 "cells": [
  {
   "cell_type": "markdown",
   "id": "amino-selection",
   "metadata": {},
   "source": [
    "# Quickstart\n",
    "\n",
    "Now that you understand the basics concepts in `tweedledum`, let's see how we can create the follwing circuit:\n",
    "\n",
    "\n",
    "<img src=\"images/concept-circuit.png\" alt=\"Quantum teleportation\" style=\"width: 400px;\"/>"
   ]
  },
  {
   "cell_type": "markdown",
   "id": "revised-interview",
   "metadata": {},
   "source": [
    "## An empty circuit"
   ]
  },
  {
   "cell_type": "code",
   "execution_count": 1,
   "id": "reasonable-checkout",
   "metadata": {},
   "outputs": [],
   "source": [
    "from tweedledum.ir import Circuit\n",
    "\n",
    "circuit = Circuit()"
   ]
  },
  {
   "cell_type": "markdown",
   "id": "smart-albania",
   "metadata": {},
   "source": [
    "## Creating a qubits and cbits\n",
    "\n",
    "Once you have a circuit, you can create wires in it. The wire can be either quantum or classical. In the end, you will need both to do anything useful. Creating qubits and cbits is quite straightforward:"
   ]
  },
  {
   "cell_type": "code",
   "execution_count": 2,
   "id": "accessible-terminal",
   "metadata": {},
   "outputs": [
    {
     "name": "stdout",
     "output_type": "stream",
     "text": [
      "       \n",
      "__q2 : \n",
      "       \n",
      "__q1 : \n",
      "       \n",
      "__q0 : \n",
      "       \n",
      "       \n",
      "       \n",
      "\n"
     ]
    }
   ],
   "source": [
    "q0 = circuit.create_qubit()\n",
    "c0 = circuit.create_cbit()\n",
    "q1 = circuit.create_qubit()\n",
    "c1 = circuit.create_cbit()\n",
    "q2 = circuit.create_qubit()\n",
    "\n",
    "print(circuit)"
   ]
  },
  {
   "cell_type": "markdown",
   "id": "mature-peter",
   "metadata": {},
   "source": [
    "## Creating instructions"
   ]
  },
  {
   "cell_type": "code",
   "execution_count": 3,
   "id": "elect-murder",
   "metadata": {},
   "outputs": [
    {
     "name": "stdout",
     "output_type": "stream",
     "text": [
      "            ╭───╮                ╭───╮╭───╮\n",
      "__q2 : ─────┤ x ├────────────────┤ x ├┤ z ├\n",
      "       ╭───╮╰─┬─╯╭───╮        ╭─╮╰─╥─╯╰─╥─╯\n",
      "__q1 : ┤ h ├──●──┤ x ├────────┤m├──╫────╫──\n",
      "       ╰───╯     ╰─┬─╯╭───╮╭─╮╰╥╯  ║    ║  \n",
      "__q0 : ────────────●──┤ h ├┤m├─╫───╫────╫──\n",
      "                      ╰───╯╰╥╯ ║   ║    ║  \n",
      "       ═════════════════════V══V═══●════●══\n",
      "                            3  4   1    0  \n",
      "\n"
     ]
    }
   ],
   "source": [
    "from tweedledum.operators import H, Measure, X, Z\n",
    "\n",
    "circuit.apply_operator(H(), [q1])\n",
    "circuit.apply_operator(X(), [q1, q2])\n",
    "circuit.apply_operator(X(), [q0, q1])\n",
    "circuit.apply_operator(H(), [q0])\n",
    "circuit.apply_operator(Measure(), [q0], [c0]) \n",
    "circuit.apply_operator(Measure(), [q1], [c1])\n",
    "circuit.apply_operator(X(), [q2], [c1])\n",
    "circuit.apply_operator(Z(), [q2], [c0])\n",
    "\n",
    "print(circuit)"
   ]
  },
  {
   "cell_type": "code",
   "execution_count": null,
   "id": "rapid-solomon",
   "metadata": {},
   "outputs": [],
   "source": []
  }
 ],
 "metadata": {
  "kernelspec": {
   "display_name": "Python 3",
   "language": "python",
   "name": "python3"
  },
  "language_info": {
   "codemirror_mode": {
    "name": "ipython",
    "version": 3
   },
   "file_extension": ".py",
   "mimetype": "text/x-python",
   "name": "python",
   "nbconvert_exporter": "python",
   "pygments_lexer": "ipython3",
   "version": "3.9.2"
  }
 },
 "nbformat": 4,
 "nbformat_minor": 5
}
